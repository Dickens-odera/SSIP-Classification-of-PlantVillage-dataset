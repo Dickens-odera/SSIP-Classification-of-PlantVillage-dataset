{
 "cells": [
  {
   "cell_type": "code",
   "execution_count": 1,
   "metadata": {},
   "outputs": [
    {
     "name": "stderr",
     "output_type": "stream",
     "text": [
      "Using TensorFlow backend.\n"
     ]
    }
   ],
   "source": [
    "\n",
    "\n",
    "from __future__ import print_function\n",
    "import keras\n",
    "from keras.datasets import mnist\n",
    "from keras.models import Sequential\n",
    "from keras.layers import Dense, Dropout, Flatten\n",
    "from keras.layers import Conv2D, MaxPooling2D\n",
    "from keras import backend as K\n",
    "                                            \n"
   ]
  },
  {
   "cell_type": "code",
   "execution_count": 2,
   "metadata": {
    "collapsed": true
   },
   "outputs": [],
   "source": [
    "import os\n",
    "ls1=os.listdir('color')\n",
    "dic1={}\n",
    "import scipy.misc as sm\n",
    "import numpy as np\n",
    "count=0\n",
    "for idx,i in enumerate(ls1):\n",
    "    dic1[i]=idx\n",
    "    ls2=os.listdir('color/'+i)\n",
    "    for j in ls2:\n",
    "        #im1=np.asarray(sm.imread('color/'+i+'/'+j))\n",
    "        #temp=np.zeros((len(im1),len(im1[0]),len(im1[0][0])   ))\n",
    "        count=count+1\n",
    "        \n",
    "    "
   ]
  },
  {
   "cell_type": "code",
   "execution_count": 3,
   "metadata": {
    "collapsed": true
   },
   "outputs": [],
   "source": [
    "import os\n",
    "ls1=os.listdir('color')\n",
    "dic1={}\n",
    "import scipy.misc as sm\n",
    "import numpy as np\n",
    "X=np.zeros((count,256,256,3))\n",
    "Y=np.zeros((count,1))\n",
    "vap=0\n",
    "\n",
    "for idx,i in enumerate(ls1):\n",
    "    dic1[i]=idx\n",
    "    ls2=os.listdir('color/'+i)\n",
    "    for j in ls2:\n",
    "        im1=np.asarray(sm.imread('color/'+i+'/'+j))\n",
    "        X[vap,:,:,:]=im1\n",
    "        Y[vap,0]=idx\n",
    "        #temp=np.zeros((len(im1),len(im1[0]),len(im1[0][0])   ))\n",
    "        vap=vap+1\n",
    "        \n",
    "    "
   ]
  },
  {
   "cell_type": "code",
   "execution_count": 4,
   "metadata": {},
   "outputs": [
    {
     "name": "stdout",
     "output_type": "stream",
     "text": [
      "(3171, 1)\n"
     ]
    },
    {
     "data": {
      "text/plain": [
       "array([2, 4, 1, 3, 0])"
      ]
     },
     "execution_count": 4,
     "metadata": {},
     "output_type": "execute_result"
    }
   ],
   "source": [
    "print (Y.shape)\n",
    "np.random.permutation(5)"
   ]
  },
  {
   "cell_type": "code",
   "execution_count": 5,
   "metadata": {},
   "outputs": [
    {
     "name": "stdout",
     "output_type": "stream",
     "text": [
      "{'Apple___Cedar_apple_rust': 0, 'Apple___healthy': 1, 'Apple___Black_rot': 3, 'Apple___Apple_scab': 2}\n"
     ]
    }
   ],
   "source": [
    "print (dic1)"
   ]
  },
  {
   "cell_type": "code",
   "execution_count": 6,
   "metadata": {
    "collapsed": true
   },
   "outputs": [],
   "source": [
    "batch_size = 10\n",
    "num_classes = len(dic1)\n",
    "epochs = 12\n",
    "\n",
    "# input image dimensions\n",
    "img_rows, img_cols = 256, 256\n",
    "\n",
    "\n",
    "X /= 255.0\n",
    "\n"
   ]
  },
  {
   "cell_type": "code",
   "execution_count": 7,
   "metadata": {
    "collapsed": true
   },
   "outputs": [],
   "source": [
    "ind=np.random.permutation(X.shape[0])\n",
    "len_ind=ind.shape[0]\n",
    "train_ind= ind[0: int(0.8*len_ind)]\n",
    "val_ind= ind[ int(0.8*len_ind) : int(0.9*len_ind)]\n",
    "test_ind= ind[ int(0.9*len_ind) : len_ind]\n",
    "X=X[ind]\n",
    "Y=Y[ind]\n",
    "\n"
   ]
  },
  {
   "cell_type": "code",
   "execution_count": 8,
   "metadata": {
    "collapsed": true
   },
   "outputs": [],
   "source": [
    "sm.imsave('name.png',X[0])"
   ]
  },
  {
   "cell_type": "code",
   "execution_count": 9,
   "metadata": {
    "collapsed": true
   },
   "outputs": [],
   "source": [
    "X_train=X[0:int(0.8*len_ind)]\n",
    "X_val=X[int(0.8*len_ind):int(0.9*len_ind)]\n",
    "X_test=X[int(0.8*len_ind) :len_ind]\n",
    "\n"
   ]
  },
  {
   "cell_type": "code",
   "execution_count": 10,
   "metadata": {},
   "outputs": [
    {
     "name": "stdout",
     "output_type": "stream",
     "text": [
      "Apple___Apple_scab\n",
      "Apple___Black_rot\n",
      "Apple___Cedar_apple_rust\n",
      "Apple___Black_rot\n"
     ]
    }
   ],
   "source": [
    "def visuals(num):\n",
    "    sm.imsave('name'+str(num)+'.png',X_train[num])\n",
    "    for i in dic1:\n",
    "        if(dic1[i]== int(Y[num,0] ) ):\n",
    "            print (i)\n",
    "visuals(0)\n",
    "visuals(1)\n",
    "visuals(2)\n",
    "visuals(3)\n"
   ]
  },
  {
   "cell_type": "code",
   "execution_count": 11,
   "metadata": {
    "collapsed": true
   },
   "outputs": [],
   "source": [
    "Y_train=Y[0:int(0.8*len_ind)]\n",
    "Y_val=Y[int(0.8*len_ind):int(0.9*len_ind)]\n",
    "Y_test=Y[int(0.8*len_ind) :len_ind]\n",
    "\n"
   ]
  },
  {
   "cell_type": "code",
   "execution_count": 12,
   "metadata": {
    "collapsed": true
   },
   "outputs": [],
   "source": [
    "# convert class vectors to binary class matrices\n",
    "Y_train = keras.utils.to_categorical(Y_train, num_classes)\n",
    "Y_test = keras.utils.to_categorical(Y_test, num_classes)\n",
    "Y_val = keras.utils.to_categorical(Y_val, num_classes)\n",
    "\n"
   ]
  },
  {
   "cell_type": "code",
   "execution_count": 13,
   "metadata": {
    "collapsed": true
   },
   "outputs": [],
   "source": [
    "model = Sequential()\n",
    "model.add(Conv2D(32, kernel_size=(3, 3),\n",
    "                 activation='relu',\n",
    "                 input_shape=(256,256,3)))\n",
    "model.add(MaxPooling2D(pool_size=(2, 2)))\n",
    "model.add(Conv2D(64, (3, 3), activation='relu'))\n",
    "model.add(MaxPooling2D(pool_size=(2, 2)))\n",
    "model.add(Conv2D(64, (3, 3), activation='relu'))\n",
    "model.add(MaxPooling2D(pool_size=(2, 2)))\n",
    "model.add(Conv2D(64, (3, 3), activation='relu'))\n",
    "model.add(MaxPooling2D(pool_size=(2, 2)))\n",
    "model.add(Conv2D(64, (3, 3), activation='relu'))\n",
    "model.add(MaxPooling2D(pool_size=(2, 2)))\n",
    "model.add(Dropout(0.25))\n",
    "model.add(Flatten())\n",
    "model.add(Dense(128, activation='relu'))\n",
    "model.add(Dropout(0.5))\n",
    "model.add(Dense(num_classes, activation='softmax'))\n"
   ]
  },
  {
   "cell_type": "code",
   "execution_count": 14,
   "metadata": {},
   "outputs": [
    {
     "name": "stdout",
     "output_type": "stream",
     "text": [
      "_________________________________________________________________\n",
      "Layer (type)                 Output Shape              Param #   \n",
      "=================================================================\n",
      "conv2d_1 (Conv2D)            (None, 254, 254, 32)      896       \n",
      "_________________________________________________________________\n",
      "max_pooling2d_1 (MaxPooling2 (None, 127, 127, 32)      0         \n",
      "_________________________________________________________________\n",
      "conv2d_2 (Conv2D)            (None, 125, 125, 64)      18496     \n",
      "_________________________________________________________________\n",
      "max_pooling2d_2 (MaxPooling2 (None, 62, 62, 64)        0         \n",
      "_________________________________________________________________\n",
      "conv2d_3 (Conv2D)            (None, 60, 60, 64)        36928     \n",
      "_________________________________________________________________\n",
      "max_pooling2d_3 (MaxPooling2 (None, 30, 30, 64)        0         \n",
      "_________________________________________________________________\n",
      "conv2d_4 (Conv2D)            (None, 28, 28, 64)        36928     \n",
      "_________________________________________________________________\n",
      "max_pooling2d_4 (MaxPooling2 (None, 14, 14, 64)        0         \n",
      "_________________________________________________________________\n",
      "conv2d_5 (Conv2D)            (None, 12, 12, 64)        36928     \n",
      "_________________________________________________________________\n",
      "max_pooling2d_5 (MaxPooling2 (None, 6, 6, 64)          0         \n",
      "_________________________________________________________________\n",
      "dropout_1 (Dropout)          (None, 6, 6, 64)          0         \n",
      "_________________________________________________________________\n",
      "flatten_1 (Flatten)          (None, 2304)              0         \n",
      "_________________________________________________________________\n",
      "dense_1 (Dense)              (None, 128)               295040    \n",
      "_________________________________________________________________\n",
      "dropout_2 (Dropout)          (None, 128)               0         \n",
      "_________________________________________________________________\n",
      "dense_2 (Dense)              (None, 4)                 516       \n",
      "=================================================================\n",
      "Total params: 425,732\n",
      "Trainable params: 425,732\n",
      "Non-trainable params: 0\n",
      "_________________________________________________________________\n"
     ]
    }
   ],
   "source": [
    "model.summary()"
   ]
  },
  {
   "cell_type": "code",
   "execution_count": 15,
   "metadata": {
    "collapsed": true
   },
   "outputs": [],
   "source": [
    "\n",
    "model.compile(loss=keras.losses.categorical_crossentropy,\n",
    "              optimizer=keras.optimizers.Adadelta(),\n",
    "              metrics=['accuracy'])\n"
   ]
  },
  {
   "cell_type": "code",
   "execution_count": 16,
   "metadata": {},
   "outputs": [
    {
     "name": "stdout",
     "output_type": "stream",
     "text": [
      "Train on 2536 samples, validate on 317 samples\n",
      "Epoch 1/12\n",
      "2536/2536 [==============================] - 15s - loss: 1.0602 - acc: 0.5812 - val_loss: 0.6140 - val_acc: 0.7508\n",
      "Epoch 2/12\n",
      "2536/2536 [==============================] - 9s - loss: 0.5673 - acc: 0.8036 - val_loss: 0.3317 - val_acc: 0.8644\n",
      "Epoch 3/12\n",
      "2536/2536 [==============================] - 9s - loss: 0.3851 - acc: 0.8608 - val_loss: 0.2778 - val_acc: 0.8991\n",
      "Epoch 4/12\n",
      "2536/2536 [==============================] - 9s - loss: 0.3272 - acc: 0.8801 - val_loss: 0.2251 - val_acc: 0.9148\n",
      "Epoch 5/12\n",
      "2536/2536 [==============================] - 9s - loss: 0.2877 - acc: 0.9010 - val_loss: 0.2144 - val_acc: 0.9148\n",
      "Epoch 6/12\n",
      "2536/2536 [==============================] - 9s - loss: 0.2514 - acc: 0.9144 - val_loss: 0.2077 - val_acc: 0.9148\n",
      "Epoch 7/12\n",
      "2536/2536 [==============================] - 9s - loss: 0.2284 - acc: 0.9227 - val_loss: 0.2166 - val_acc: 0.9117\n",
      "Epoch 8/12\n",
      "2536/2536 [==============================] - 9s - loss: 0.2181 - acc: 0.9278 - val_loss: 0.3545 - val_acc: 0.8644\n",
      "Epoch 9/12\n",
      "2536/2536 [==============================] - 10s - loss: 0.1912 - acc: 0.9330 - val_loss: 0.1510 - val_acc: 0.9401\n",
      "Epoch 10/12\n",
      "2536/2536 [==============================] - 10s - loss: 0.1810 - acc: 0.9369 - val_loss: 0.1587 - val_acc: 0.9211\n",
      "Epoch 11/12\n",
      "2536/2536 [==============================] - 10s - loss: 0.1480 - acc: 0.9483 - val_loss: 0.1234 - val_acc: 0.9621\n",
      "Epoch 12/12\n",
      "2536/2536 [==============================] - 10s - loss: 0.1394 - acc: 0.9491 - val_loss: 0.1168 - val_acc: 0.9527\n"
     ]
    },
    {
     "data": {
      "text/plain": [
       "<keras.callbacks.History at 0x7fb1ab1b5e90>"
      ]
     },
     "execution_count": 16,
     "metadata": {},
     "output_type": "execute_result"
    }
   ],
   "source": [
    "\n",
    "model.fit(X_train, Y_train,\n",
    "          batch_size=batch_size,\n",
    "          epochs=epochs,\n",
    "          verbose=1,\n",
    "          validation_data=(X_val, Y_val))\n"
   ]
  },
  {
   "cell_type": "code",
   "execution_count": null,
   "metadata": {
    "collapsed": true
   },
   "outputs": [],
   "source": []
  },
  {
   "cell_type": "code",
   "execution_count": 17,
   "metadata": {},
   "outputs": [
    {
     "name": "stdout",
     "output_type": "stream",
     "text": [
      "Test loss: 0.124791575857\n",
      "Test accuracy: 0.951181103301\n"
     ]
    }
   ],
   "source": [
    "score = model.evaluate(X_test, Y_test, verbose=0)\n",
    "print('Test loss:', score[0])\n",
    "print('Test accuracy:', score[1])"
   ]
  },
  {
   "cell_type": "code",
   "execution_count": 18,
   "metadata": {
    "collapsed": true
   },
   "outputs": [],
   "source": [
    "dic2={}\n",
    "for i in dic1:\n",
    "    dic2[dic1[i]]=i"
   ]
  },
  {
   "cell_type": "code",
   "execution_count": 33,
   "metadata": {
    "collapsed": true
   },
   "outputs": [],
   "source": [
    "def test_it():\n",
    "    xvap=os.listdir('I_want_to_test_it/')\n",
    "    #print (xvap)\n",
    "    for i in xvap:\n",
    "        im1=np.asarray(sm.imread('I_want_to_test_it/'+i))\n",
    "        im1=im1/255.0\n",
    "        im1=im1.reshape((1,im1.shape[0],im1.shape[1],im1.shape[2]))\n",
    "        print(model.predict(im1))\n",
    "        xx=(np.argmax(model.predict(im1)))\n",
    "        print (dic2[int(xx)])\n",
    "        os.rename('I_want_to_test_it/'+i,'I_want_to_test_it/'+dic2[int(xx)]+i)\n",
    "        \n",
    "        \n",
    "    "
   ]
  },
  {
   "cell_type": "code",
   "execution_count": 34,
   "metadata": {},
   "outputs": [
    {
     "name": "stdout",
     "output_type": "stream",
     "text": [
      "['Apple___Apple_scab3.JPG', 'Apple___Apple_scab1.JPG', 'Apple___Apple_scab2.JPG']\n",
      "[[  9.88971174e-01   3.36877769e-04   1.04737962e-02   2.18251225e-04]]\n",
      "Apple___Cedar_apple_rust\n",
      "[[  1.59066294e-05   9.98843908e-01   1.11889269e-03   2.11932784e-05]]\n",
      "Apple___healthy\n",
      "[[  2.70864894e-06   6.01165593e-05   9.99377191e-01   5.60072076e-04]]\n",
      "Apple___Apple_scab\n"
     ]
    }
   ],
   "source": [
    "test_it()"
   ]
  },
  {
   "cell_type": "code",
   "execution_count": 21,
   "metadata": {
    "collapsed": true
   },
   "outputs": [],
   "source": [
    "from keras.models import Sequential\n",
    "from keras.layers import Dense\n",
    "from keras.models import model_from_json \n",
    "# serialize model to JSON\n"
   ]
  },
  {
   "cell_type": "code",
   "execution_count": 22,
   "metadata": {},
   "outputs": [
    {
     "name": "stdout",
     "output_type": "stream",
     "text": [
      "Saved model to disk\n"
     ]
    }
   ],
   "source": [
    "model_json = model.to_json()\n",
    "with open(\"model.json\", \"w\") as json_file:\n",
    "    json_file.write(model_json)\n",
    "# serialize weights to HDF5\n",
    "model.save_weights(\"model.h5\")\n",
    "print(\"Saved model to disk\")\n"
   ]
  },
  {
   "cell_type": "code",
   "execution_count": 23,
   "metadata": {
    "collapsed": true
   },
   "outputs": [],
   "source": [
    " \n",
    "# later...\n"
   ]
  },
  {
   "cell_type": "code",
   "execution_count": 24,
   "metadata": {},
   "outputs": [
    {
     "name": "stdout",
     "output_type": "stream",
     "text": [
      "{'Apple___Cedar_apple_rust': 0, 'Apple___healthy': 1, 'Apple___Black_rot': 3, 'Apple___Apple_scab': 2}\n"
     ]
    }
   ],
   "source": []
  },
  {
   "cell_type": "code",
   "execution_count": null,
   "metadata": {
    "collapsed": true
   },
   "outputs": [],
   "source": []
  }
 ],
 "metadata": {
  "kernelspec": {
   "display_name": "Python 2",
   "language": "python",
   "name": "python2"
  },
  "language_info": {
   "codemirror_mode": {
    "name": "ipython",
    "version": 2
   },
   "file_extension": ".py",
   "mimetype": "text/x-python",
   "name": "python",
   "nbconvert_exporter": "python",
   "pygments_lexer": "ipython2",
   "version": "2.7.6"
  }
 },
 "nbformat": 4,
 "nbformat_minor": 2
}
