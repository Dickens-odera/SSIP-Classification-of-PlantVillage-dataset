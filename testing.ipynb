{
 "cells": [
  {
   "cell_type": "code",
   "execution_count": 10,
   "metadata": {},
   "outputs": [],
   "source": [
    "from __future__ import print_function\n",
    "from keras.models import Sequential\n",
    "from keras.layers import Dense\n",
    "from keras.models import model_from_json \n",
    "# serialize model to JSON\n",
    "import os\n",
    "\n",
    "import keras\n",
    "from keras.datasets import mnist\n",
    "from keras.models import Sequential\n",
    "from keras.layers import Dense, Dropout, Flatten\n",
    "from keras.layers import Conv2D, MaxPooling2D\n",
    "from keras import backend as K\n",
    "                                            \n"
   ]
  },
  {
   "cell_type": "code",
   "execution_count": 11,
   "metadata": {},
   "outputs": [
    {
     "name": "stdout",
     "output_type": "stream",
     "text": [
      "Loaded model from disk\n"
     ]
    }
   ],
   "source": [
    " \n",
    "# load json and create model\n",
    "json_file = open('model.json', 'r')\n",
    "loaded_model_json = json_file.read()\n",
    "json_file.close()\n",
    "loaded_model = model_from_json(loaded_model_json)\n",
    "# load weights into new model\n",
    "loaded_model.load_weights(\"model.h5\")\n",
    "print(\"Loaded model from disk\")\n",
    "model=loaded_model"
   ]
  },
  {
   "cell_type": "code",
   "execution_count": 12,
   "metadata": {
    "collapsed": true
   },
   "outputs": [],
   "source": [
    "import os\n",
    "ls1=os.listdir('color')\n",
    "dic1={}\n",
    "import scipy.misc as sm\n",
    "import numpy as np\n",
    "count=0\n",
    "for idx,i in enumerate(ls1):\n",
    "    dic1[i]=idx\n",
    "    ls2=os.listdir('color/'+i)\n",
    "    for j in ls2:\n",
    "        #im1=np.asarray(sm.imread('color/'+i+'/'+j))\n",
    "        #temp=np.zeros((len(im1),len(im1[0]),len(im1[0][0])   ))\n",
    "        count=count+1\n",
    "        \n",
    "    \n",
    "dic2={}\n",
    "for i in dic1:\n",
    "    dic2[dic1[i]]=i"
   ]
  },
  {
   "cell_type": "code",
   "execution_count": null,
   "metadata": {
    "collapsed": true
   },
   "outputs": [],
   "source": []
  },
  {
   "cell_type": "code",
   "execution_count": 16,
   "metadata": {
    "collapsed": true
   },
   "outputs": [],
   "source": [
    "def test_it():\n",
    "    xvap=os.listdir('I_want_to_test_it/')\n",
    "    for i in xvap:\n",
    "        im1=np.asarray(sm.imread('I_want_to_test_it/'+i))\n",
    "        im1=im1/255.0\n",
    "        im1=im1.reshape((1,im1.shape[0],im1.shape[1],im1.shape[2]))\n",
    "        print(model.predict(im1))\n",
    "        xx=(np.argmax(model.predict(im1)))\n",
    "        print (dic2[int(xx)])\n",
    "        os.rename('I_want_to_test_it/'+i,'I_want_to_test_it/'+dic2[int(xx)]+i)\n",
    "     "
   ]
  },
  {
   "cell_type": "code",
   "execution_count": 18,
   "metadata": {},
   "outputs": [
    {
     "name": "stdout",
     "output_type": "stream",
     "text": [
      "[[  2.33745059e-08   2.26705856e-06   1.16799289e-04   9.99880910e-01]]\n",
      "Apple___Black_rot\n",
      "[[  3.55992051e-06   5.67668685e-05   1.02456615e-04   9.99837160e-01]]\n",
      "Apple___Black_rot\n",
      "[[  8.26712858e-06   4.48252795e-05   4.59050847e-04   9.99487877e-01]]\n",
      "Apple___Black_rot\n",
      "[[  1.32970129e-07   2.85910392e-06   4.22814861e-03   9.95768905e-01]]\n",
      "Apple___Black_rot\n",
      "[[  9.75254721e-09   2.97996121e-05   1.38777727e-03   9.98582482e-01]]\n",
      "Apple___Black_rot\n",
      "[[  4.93332557e-08   1.15092837e-06   1.69023289e-04   9.99829769e-01]]\n",
      "Apple___Black_rot\n",
      "[[  3.50003489e-07   4.94567903e-05   3.69386602e-04   9.99580801e-01]]\n",
      "Apple___Black_rot\n",
      "[[  2.16038991e-08   7.02677880e-06   2.51705264e-04   9.99741256e-01]]\n",
      "Apple___Black_rot\n",
      "[[  2.01643252e-06   8.32329621e-04   1.93258616e-04   9.98972416e-01]]\n",
      "Apple___Black_rot\n"
     ]
    }
   ],
   "source": [
    "test_it()"
   ]
  },
  {
   "cell_type": "code",
   "execution_count": null,
   "metadata": {
    "collapsed": true
   },
   "outputs": [],
   "source": []
  }
 ],
 "metadata": {
  "kernelspec": {
   "display_name": "Python 2",
   "language": "python",
   "name": "python2"
  },
  "language_info": {
   "codemirror_mode": {
    "name": "ipython",
    "version": 2
   },
   "file_extension": ".py",
   "mimetype": "text/x-python",
   "name": "python",
   "nbconvert_exporter": "python",
   "pygments_lexer": "ipython2",
   "version": "2.7.6"
  }
 },
 "nbformat": 4,
 "nbformat_minor": 2
}
